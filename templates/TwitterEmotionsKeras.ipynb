{
 "cells": [
  {
   "cell_type": "markdown",
   "metadata": {
    "collapsed": true
   },
   "source": [
    ""
   ]
  },
  {
   "cell_type": "markdown",
   "metadata": {},
   "source": [
    ""
   ]
  },
  {
   "cell_type": "code",
   "execution_count": null,
   "metadata": {},
   "outputs": [],
   "source": [
    "from keras.models import Sequential\n",
    "from keras.layers import Dense\n",
    "from keras.layers import Dropout\n",
    "from keras.layers import Activation\n",
    "from keras.layers import Embedding\n",
    "from keras.layers import LSTM\n",
    "from keras.layers import Conv1D\n",
    "from keras.layers import MaxPooling1D\n",
    "from datasets import TwitterEmotion"
   ]
  },
  {
   "cell_type": "code",
   "execution_count": null,
   "metadata": {},
   "outputs": [],
   "source": [
    "# setup the dataset\n",
    "te = TwitterEmotion()\n",
    "w2v = te.w2v\n",
    "\n",
    "te.train.open(fold=0)\n",
    "te.validation.open(fold=0)\n",
    "te.test.open(fold=0)"
   ]
  },
  {
   "cell_type": "code",
   "execution_count": null,
   "metadata": {},
   "outputs": [],
   "source": [
    "# Hyper Params\n",
    "\n",
    "vocab_size = te.vocab_size\n",
    "maxlen = 30\n",
    "embedding_size = w2v.shape[-1]\n",
    "\n",
    "# Convolution\n",
    "kernel_size = 5\n",
    "filters = 64\n",
    "pool_size = 4\n",
    "\n",
    "# LSTM\n",
    "lstm_output_size = 70\n",
    "\n",
    "# Training\n",
    "batch_size = 30\n",
    "epochs = 2"
   ]
  },
  {
   "cell_type": "code",
   "execution_count": null,
   "metadata": {},
   "outputs": [],
   "source": [
    "print('Building the Model...')\n",
    "model = Sequential()\n",
    "model.add(Embedding(vocab_size, embedding_size, input_length=maxlen, \n",
    "                    weights=[w2v]))\n",
    "model.add(Dropout(0.25))\n",
    "model.add(Conv1D(filters,\n",
    "                 kernel_size,\n",
    "                 padding='valid',\n",
    "                 activation='relu',\n",
    "                 strides=1))\n",
    "model.add(MaxPooling1D(pool_size=pool_size))\n",
    "model.add(LSTM(lstm_output_size))\n",
    "model.add(Dense(te.n_classes))\n",
    "model.add(Activation('sigmoid'))\n",
    "\n",
    "model.compile(loss='categorical_crossentropy',\n",
    "              optimizer='adam', metrics=['accuracy'])\n",
    "\n",
    "min_val_loss = float(\"inf\")\n",
    "prev_epoch = 0\n",
    "while te.train.epochs_completed < epochs:\n",
    "    print('Training epoch {}'.format(te.train.epochs_completed))\n",
    "    train_batch = te.train.next_batch(batch_size=batch_size, pad=maxlen, \n",
    "                                      one_hot=True, mark_entities=True)\n",
    "    [loss, accuracy] = model.train_on_batch(train_batch.text,  \n",
    "                                            train_batch.emotion)\n",
    "    if prev_epoch != te.train.epochs_completed:\n",
    "        prev_epoch = te.train.epochs_completed\n",
    "        \n",
    "        print('validating')\n",
    "        total_val_loss, n_val_iterations = 0.0, 0\n",
    "        while te.validation.epochs_completed < 1:\n",
    "            te.validation._epochs_completed = 0\n",
    "            val_batch = te.validation.next_batch(batch_size=batch_size, \n",
    "                                  pad=maxlen, one_hot=True, mark_entities=True)\n",
    "            [val_loss, val_accuracy] = model.test_on_batch(val_batch.text, \n",
    "                                                                val_batch.emotion)\n",
    "            total_val_loss += val_loss\n",
    "            n_val_iterations += 1\n",
    "        \n",
    "        avg_val_loss = total_val_loss/n_val_iterations\n",
    "        print(\"Average\")\n",
    "        if avg_val_loss < min_val_loss:\n",
    "            print('saving model as the validation loss improved. '\n",
    "                  'Previous val loss: {}\\t current val loss: {}'.format(\n",
    "                    min_val_loss, avg_val_loss))\n",
    "            model.save('model.h5')\n",
    "            min_val_loss = avg_val_loss\n",
    "\n",
    "total_test_loss, total_test_acc, n_test_iterations = 0.0, 0.0, 0\n",
    "while te.test.epochs_completed < 1:\n",
    "    te.test._epochs_completed = 0\n",
    "    test_batch = te.test.next_batch(batch_size=batch_size, \n",
    "                          pad=maxlen, one_hot=True, mark_entities=True)\n",
    "    [test_loss, test_accuracy] = model.test_on_batch(test_batch.text, \n",
    "                                                        test_batch.emotion)\n",
    "    total_test_loss += test_loss\n",
    "    total_test_acc += test_accuracy\n",
    "    n_test_iterations += 1\n",
    "\n",
    "avg_test_loss = total_test_loss/n_test_iterations\n",
    "avg_test_acc = total_test_acc/n_test_iterations\n",
    "print(\"Avg Test Accuracy: {}\\nAverage Test Loss: {}\".format(avg_test_acc, \n",
    "                                                            avg_test_loss))"
   ]
  },
  {
   "cell_type": "code",
   "execution_count": null,
   "metadata": {},
   "outputs": [],
   "source": [
    "te.train.close()\n",
    "te.validation.close()\n",
    "te.test.close()"
   ]
  }
 ],
 "metadata": {
  "kernelspec": {
   "display_name": "Python 2",
   "language": "python",
   "name": "python2"
  },
  "language_info": {
   "codemirror_mode": {
    "name": "ipython",
    "version": 2.0
   },
   "file_extension": ".py",
   "mimetype": "text/x-python",
   "name": "python",
   "nbconvert_exporter": "python",
   "pygments_lexer": "ipython2",
   "version": "2.7.6"
  }
 },
 "nbformat": 4,
 "nbformat_minor": 0
}